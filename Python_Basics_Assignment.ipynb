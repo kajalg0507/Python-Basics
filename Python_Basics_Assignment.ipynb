{
  "nbformat": 4,
  "nbformat_minor": 0,
  "metadata": {
    "colab": {
      "provenance": []
    },
    "kernelspec": {
      "name": "python3",
      "display_name": "Python 3"
    },
    "language_info": {
      "name": "python"
    }
  },
  "cells": [
    {
      "cell_type": "markdown",
      "source": [
        "# PYTHON BASICS THEORY QUESTIONS"
      ],
      "metadata": {
        "id": "QDNuf8oiqZ3E"
      }
    },
    {
      "cell_type": "markdown",
      "source": [
        "1. What is Python, and why is it popular?\n",
        "- Python is a high-level, interpreted programming language known for its clear syntax and readability. Its popularity stems from several factors:\n",
        "\n",
        "  - Its syntax is clean and easy to learn, which makes it accessible for beginners.\n",
        "\n",
        "  - It's used in a wide range of applications, including web development, data science, artificial intelligence, automation, and scientific computing.\n",
        "\n",
        "  - Python has a vast collection of pre-built libraries and frameworks (like NumPy, Pandas, Django, and TensorFlow) that simplify complex tasks.\n",
        "\n",
        "  - A large and active global community provides excellent support, documentation, and tutorials.\n",
        "  \n",
        "2. What is an interpreter in Python?\n",
        "- In Python, an interpreter is a program that reads and executes code line by line. Unlike compilers that translate the entire program into machine code before running it, the interpreter translates and runs the code one instruction at a time. This makes the development process faster and more interactive, as you can see the results of your code immediately.\n",
        "\n",
        "3. What are pre-defined keywords in Python?\n",
        "- Keywords are reserved words in Python that have special meanings and purposes.\n",
        "- They are part of the language's syntax and cannot be used for anything else, such as variable names or function names.\n",
        "- Examples include if, for, while, def, class, True, False, and None.\n",
        "\n",
        "4. Can keywords be used as variable names?\n",
        "- No, keywords cannot be used as variable names. Since they are reserved for specific functions within the language, using them as identifiers would create ambiguity and result in a syntax error.\n",
        "\n",
        "5. What is mutability in Python?\n",
        "- Mutability refers to the ability of an object to be changed after it has been created.\n",
        "\n",
        "  - Mutable objects can be modified. For example, you can add, remove, or change elements in a list.\n",
        "\n",
        "  - Immutable objects cannot be changed. If you need to alter an immutable object, you must create a new one. Examples include integers, strings, and tuples.\n",
        "\n",
        "6. Why are lists mutable, but tuples are immutable?\n",
        "- The distinction between lists and tuples is a fundamental design choice in Python.\n",
        "\n",
        "  - Lists are designed to be dynamic, ordered collections whose contents are expected to change frequently. Their mutability allows for efficient addition, removal, and modification of elements.\n",
        "\n",
        "  - Tuples are designed to be fixed, ordered collections. Their immutability makes them reliable for use as dictionary keys or in sets, where the elements must be unchangeable (hashable). It also provides a degree of data integrity, ensuring that the collection of items remains constant.\n",
        "\n",
        "7. What is the difference between “==” and “is” operators in Python?\n",
        "\n",
        "- The == and is operators are used for comparison but check for different things:\n",
        "\n",
        " - == (Equality): This operator compares the values of two objects to see if they are equal.\n",
        "\n",
        " - is (Identity): This operator checks if two variables point to the exact same object in memory.\n",
        "\n",
        " Example:"
      ],
      "metadata": {
        "id": "I6zNNOzVq62y"
      }
    },
    {
      "cell_type": "code",
      "execution_count": null,
      "metadata": {
        "id": "LKPy9TYTp6Yg"
      },
      "outputs": [],
      "source": [
        "list_a = [1, 2, 3]\n",
        "list_b = [1, 2, 3]\n",
        "list_c = list_a\n",
        "\n",
        "print(list_a == list_b)  # True, because their values are the same\n",
        "print(list_a is list_b)  # False, because they are two different objects in memory\n",
        "print(list_a is list_c)  # True, because they both refer to the same object"
      ]
    },
    {
      "cell_type": "markdown",
      "source": [
        "8. What are logical operators in Python?\n",
        "- Logical operators are used to combine or modify conditional statements. Python has three logical operators:\n",
        "\n",
        "  - and: Returns True only if both statements on either side are true.\n",
        "\n",
        "  - or: Returns True if at least one of the statements is true.\n",
        "\n",
        "  - not: Reverses the logical state, turning True into False and False into True.\n",
        "\n",
        "9. What is type casting in Python?\n",
        "- Type casting (or type conversion) is the process of converting a variable from one data type to another. This is often necessary when you need to perform operations on variables of different types. For example, you might cast a string containing a number, like \"10\", into an integer, 10, to perform mathematical calculations. Common type casting functions include int(), float(), str(), and list().\n",
        "\n",
        "10. What is the difference between implicit and explicit type casting?\n",
        "- *Implicit Type Casting* : This is an automatic conversion performed by the Python interpreter without any user intervention. It usually happens when you mix data types in an operation, such as adding an integer and a float. Python will automatically convert the \"lower\" data type (integer) to the \"higher\" data type (float) to prevent data loss."
      ],
      "metadata": {
        "id": "yx-C2Xm_wC4G"
      }
    },
    {
      "cell_type": "code",
      "source": [
        "result = 5 + 2.5  # Python implicitly converts 5 to 5.0\n",
        "# result is 7.5"
      ],
      "metadata": {
        "id": "oJrALPTayBdt"
      },
      "execution_count": null,
      "outputs": []
    },
    {
      "cell_type": "markdown",
      "source": [
        "- Explicit Type Casting: This is a manual conversion where the programmer explicitly tells the program to convert a variable's data type using built-in functions like int(), str(), or float()."
      ],
      "metadata": {
        "id": "-6TrxzeXyFMN"
      }
    },
    {
      "cell_type": "code",
      "source": [
        "user_input = \"100\"\n",
        "number = int(user_input) # Explicitly converting string to integer"
      ],
      "metadata": {
        "id": "FGterkOQyM1t"
      },
      "execution_count": null,
      "outputs": []
    },
    {
      "cell_type": "markdown",
      "source": [
        "11. What is the purpose of conditional statements in Python?\n",
        "- The purpose of conditional statements (like if, elif, and else) is to control the flow of a program by allowing it to make decisions. They enable a program to execute specific blocks of code only if certain conditions are met, leading to different outcomes based on different inputs or states.\n",
        "\n",
        "12. How does the elif statement work?\n",
        "- The elif (short for \"else if\") statement is used to check for multiple conditions in sequence. It follows an if statement and is only evaluated if the preceding if (and any other elif before it) is False. If the elif condition is True, its code block is executed, and the program skips any remaining elif or else blocks in the chain.\n",
        "\n",
        "13. What is the difference between for and while loops?\n",
        "- The primary difference lies in how they control their iteration:\n",
        "\n",
        "  - for loop: A for loop is used for iterating over a sequence (like a list, tuple, dictionary, set, or string) or other iterable objects. It runs for a pre-defined number of times based on the length of the sequence. It's often called a definite loop.\n",
        "\n",
        "  - while loop: A while loop repeatedly executes a block of code as long as a specified condition is True. It's used when you don't know the exact number of iterations in advance. It's considered an indefinite loop.\n",
        "\n",
        "14. Describe a scenario where a while loop is more suitable than a for loop.\n",
        "- A while loop is more suitable in situations where the number of iterations is not known beforehand and depends on a condition that could change during execution.\n",
        "\n",
        "- A classic example is validating user input. Imagine you need a user to enter a positive number. You don't know how many times they might enter an invalid number. A while loop is perfect for this:"
      ],
      "metadata": {
        "id": "2qf-kDd5yRkg"
      }
    },
    {
      "cell_type": "code",
      "source": [
        "# We want a positive number, but we don't know how many attempts the user will take.\n",
        "number = -1\n",
        "while number <= 0:\n",
        "    try:\n",
        "        number = int(input(\"Please enter a positive number: \"))\n",
        "        if number <= 0:\n",
        "            print(\"Invalid input. The number must be positive.\")\n",
        "    except ValueError:\n",
        "        print(\"That's not a valid number! Please try again.\")\n",
        "\n",
        "print(f\"Thank you! You entered {number}.\")"
      ],
      "metadata": {
        "id": "LwWxNQZbzuBb"
      },
      "execution_count": null,
      "outputs": []
    },
    {
      "cell_type": "markdown",
      "source": [
        "- In this scenario, a for loop would be impractical because you can't define a fixed number of retries."
      ],
      "metadata": {
        "id": "ksotqzfZzzzo"
      }
    },
    {
      "cell_type": "markdown",
      "source": [
        "# PYTHON PRACTICAL QUESTIONS"
      ],
      "metadata": {
        "id": "bRRFLeEM0eFI"
      }
    },
    {
      "cell_type": "code",
      "source": [
        "#1. Write a Python program to print \"Hello, World!\"\n",
        "\n",
        "print(\"Hello, World!\")"
      ],
      "metadata": {
        "colab": {
          "base_uri": "https://localhost:8080/"
        },
        "id": "o8Bkm_eJ08pT",
        "outputId": "20421e87-212b-4558-c9db-4ac1f0e13cb9"
      },
      "execution_count": 1,
      "outputs": [
        {
          "output_type": "stream",
          "name": "stdout",
          "text": [
            "Hello, World!\n"
          ]
        }
      ]
    },
    {
      "cell_type": "code",
      "source": [
        "#2. Write a Python program that displays your name and age.\n",
        "\n",
        "name = \"kajal\"\n",
        "age = 25\n",
        "print(f\"Name: {name}\")\n",
        "print(f\"Age: {age}\")"
      ],
      "metadata": {
        "colab": {
          "base_uri": "https://localhost:8080/"
        },
        "id": "Eg5n9yfG1lkW",
        "outputId": "7dda3a7d-68f3-49b4-8a39-52b4445bee94"
      },
      "execution_count": 2,
      "outputs": [
        {
          "output_type": "stream",
          "name": "stdout",
          "text": [
            "Name: kajal\n",
            "Age: 25\n"
          ]
        }
      ]
    },
    {
      "cell_type": "code",
      "source": [
        "#3. Write code to print all the pre-defined keywords in Python using the keyword library.\n",
        "\n",
        "import keyword\n",
        "\n",
        "print(\"Python Keywords:\")\n",
        "print(keyword.kwlist)"
      ],
      "metadata": {
        "colab": {
          "base_uri": "https://localhost:8080/"
        },
        "id": "KCUnGGaD1-tK",
        "outputId": "15e57a74-984a-4e62-8c4f-adaeccc758f6"
      },
      "execution_count": 3,
      "outputs": [
        {
          "output_type": "stream",
          "name": "stdout",
          "text": [
            "Python Keywords:\n",
            "['False', 'None', 'True', 'and', 'as', 'assert', 'async', 'await', 'break', 'class', 'continue', 'def', 'del', 'elif', 'else', 'except', 'finally', 'for', 'from', 'global', 'if', 'import', 'in', 'is', 'lambda', 'nonlocal', 'not', 'or', 'pass', 'raise', 'return', 'try', 'while', 'with', 'yield']\n"
          ]
        }
      ]
    },
    {
      "cell_type": "code",
      "source": [
        "#4. Write a program that checks if a given word is a Python keyword.\n",
        "\n",
        "import keyword\n",
        "\n",
        "user_word = input(\"Enter a word to check if it's a Python keyword: \")\n",
        "\n",
        "if keyword.iskeyword(user_word):\n",
        "    print(f\"'{user_word}' is a Python keyword.\")\n",
        "else:\n",
        "    print(f\"'{user_word}' is not a Python keyword.\")"
      ],
      "metadata": {
        "colab": {
          "base_uri": "https://localhost:8080/"
        },
        "id": "6TVcS_dC2WhD",
        "outputId": "6ca97868-bec5-4438-8e53-97539b559a4e"
      },
      "execution_count": 7,
      "outputs": [
        {
          "output_type": "stream",
          "name": "stdout",
          "text": [
            "Enter a word to check if it's a Python keyword: if\n",
            "'if' is a Python keyword.\n"
          ]
        }
      ]
    },
    {
      "cell_type": "code",
      "source": [
        "#5. Create a list and tuple in Python, and demonstrate how attempting to change an element works differently for each.\n",
        "\n",
        "# Create a list\n",
        "my_list = [10, 20, 30, 40]\n",
        "print(f\"Original list: {my_list}\")\n",
        "\n",
        "# Change an element in the list\n",
        "my_list[1] = 25\n",
        "print(f\"Modified list: {my_list}\")\n",
        "\n",
        "# Create a tuple\n",
        "my_tuple = (10, 20, 30, 40)\n",
        "print(f\"\\nOriginal tuple: {my_tuple}\")\n",
        "\n",
        "# Attempt to change an element in the tuple (this will cause an error)\n",
        "try:\n",
        "    my_tuple[1] = 25\n",
        "except TypeError as e:\n",
        "    print(f\"Error when trying to modify the tuple: {e}\")"
      ],
      "metadata": {
        "colab": {
          "base_uri": "https://localhost:8080/"
        },
        "id": "KpjCfcKa3LZC",
        "outputId": "209b4a8f-7473-4a3b-bd7c-014580da23a0"
      },
      "execution_count": 8,
      "outputs": [
        {
          "output_type": "stream",
          "name": "stdout",
          "text": [
            "Original list: [10, 20, 30, 40]\n",
            "Modified list: [10, 25, 30, 40]\n",
            "\n",
            "Original tuple: (10, 20, 30, 40)\n",
            "Error when trying to modify the tuple: 'tuple' object does not support item assignment\n"
          ]
        }
      ]
    },
    {
      "cell_type": "code",
      "source": [
        "#6. Write a function to demonstrate the behavior of mutable and immutable arguments.\n",
        "\n",
        "def modify_arguments(immutable_arg, mutable_arg):\n",
        "    print(\"\\n--- Inside the function ---\")\n",
        "    immutable_arg += 10\n",
        "    mutable_arg.append(4)\n",
        "    print(f\"Modified immutable argument (inside function): {immutable_arg}\")\n",
        "    print(f\"Modified mutable argument (inside function): {mutable_arg}\")\n",
        "    print(\"--------------------------\")\n",
        "\n",
        "\n",
        "# Demonstrate with an integer (immutable)\n",
        "my_number = 5\n",
        "print(f\"Original number (before function): {my_number}\")\n",
        "modify_arguments(my_number, []) # Pass a dummy list for the mutable arg\n",
        "print(f\"Original number (after function): {my_number}\")\n",
        "\n",
        "\n",
        "# Demonstrate with a list (mutable)\n",
        "my_list = [1, 2, 3]\n",
        "print(f\"\\nOriginal list (before function): {my_list}\")\n",
        "modify_arguments(0, my_list) # Pass a dummy integer for the immutable arg\n",
        "print(f\"Original list (after function): {my_list}\")"
      ],
      "metadata": {
        "colab": {
          "base_uri": "https://localhost:8080/"
        },
        "id": "ccS0Z8HE3mb7",
        "outputId": "34137404-d5ca-4127-ed71-5f103fdfa67b"
      },
      "execution_count": 9,
      "outputs": [
        {
          "output_type": "stream",
          "name": "stdout",
          "text": [
            "Original number (before function): 5\n",
            "\n",
            "--- Inside the function ---\n",
            "Modified immutable argument (inside function): 15\n",
            "Modified mutable argument (inside function): [4]\n",
            "--------------------------\n",
            "Original number (after function): 5\n",
            "\n",
            "Original list (before function): [1, 2, 3]\n",
            "\n",
            "--- Inside the function ---\n",
            "Modified immutable argument (inside function): 10\n",
            "Modified mutable argument (inside function): [1, 2, 3, 4]\n",
            "--------------------------\n",
            "Original list (after function): [1, 2, 3, 4]\n"
          ]
        }
      ]
    },
    {
      "cell_type": "code",
      "source": [
        "#7. Write a program that performs basic arithmetic operations on two user-input numbers\n",
        "\n",
        "num1=int(input(\"Enter the first number\"))\n",
        "num2=int(input(\"Enter the second number\"))\n",
        "print(\"Addition of two number :\",num1+num2)\n",
        "print(\"Subtraction of two number :\",num1-num2)\n",
        "print(\"Multiplication of two number :\",num1*num2)\n",
        "print(\"Division of two number :\",num1/num2)\n",
        "print(\"modulous of two number :\",num1%num2)\n",
        "print(\"Floor Division of two number :\",num1//num2)\n",
        "print(\"Exponential of two number :\",num1/num2)"
      ],
      "metadata": {
        "colab": {
          "base_uri": "https://localhost:8080/"
        },
        "id": "EGDQXS-F4GtU",
        "outputId": "3f111e54-6da0-4a0c-aba8-5e96056f4840"
      },
      "execution_count": 12,
      "outputs": [
        {
          "output_type": "stream",
          "name": "stdout",
          "text": [
            "Enter the first number2\n",
            "Enter the second number1\n",
            "Addition of two number : 3\n",
            "Subtraction of two number : 1\n",
            "Multiplication of two number : 2\n",
            "Division of two number : 2.0\n",
            "modulous of two number : 0\n",
            "Floor Division of two number : 2\n",
            "Exponential of two number : 2.0\n"
          ]
        }
      ]
    },
    {
      "cell_type": "code",
      "source": [
        "#8. Write a program to demonstrate the use of logical operators.\n",
        "\n",
        "a = True\n",
        "b = False\n",
        "\n",
        "print(f\"a = {a}, b = {b}\\n\")\n",
        "\n",
        "# and operator\n",
        "print(f\"a and b: {a and b}\")\n",
        "\n",
        "# or operator\n",
        "print(f\"a or b: {a or b}\")\n",
        "\n",
        "# not operator\n",
        "print(f\"not a: {not a}\")\n",
        "print(f\"not b: {not b}\")"
      ],
      "metadata": {
        "colab": {
          "base_uri": "https://localhost:8080/"
        },
        "id": "7VTjjhsu7D4D",
        "outputId": "0ef61865-ac81-4a66-f40d-a1bafb227865"
      },
      "execution_count": 13,
      "outputs": [
        {
          "output_type": "stream",
          "name": "stdout",
          "text": [
            "a = True, b = False\n",
            "\n",
            "a and b: False\n",
            "a or b: True\n",
            "not a: False\n",
            "not b: True\n"
          ]
        }
      ]
    },
    {
      "cell_type": "code",
      "source": [
        "#9.  Write a Python program to convert user input from string to integer, float, and boolean types.\n",
        "\n",
        "user_input = input(\"Enter a value: \")\n",
        "\n",
        "# Convert to integer\n",
        "try:\n",
        "    int_value = int(user_input)\n",
        "    print(f\"\\nAs an integer: {int_value}\")\n",
        "except ValueError:\n",
        "    print(\"\\nCannot be converted to an integer.\")\n",
        "\n",
        "# Convert to float\n",
        "try:\n",
        "    float_value = float(user_input)\n",
        "    print(f\"As a float: {float_value}\")\n",
        "except ValueError:\n",
        "    print(\"Cannot be converted to a float.\")\n",
        "\n",
        "# Convert to boolean\n",
        "# In Python, non-empty strings are True, empty strings are False.\n",
        "bool_value = bool(user_input)\n",
        "print(f\"As a boolean: {bool_value}\")"
      ],
      "metadata": {
        "colab": {
          "base_uri": "https://localhost:8080/"
        },
        "id": "6Uon322U7h3x",
        "outputId": "f0d88131-a0b6-49d9-f576-86f4dfcc1b24"
      },
      "execution_count": 15,
      "outputs": [
        {
          "output_type": "stream",
          "name": "stdout",
          "text": [
            "Enter a value: 123\n",
            "\n",
            "As an integer: 123\n",
            "As a float: 123.0\n",
            "As a boolean: True\n"
          ]
        }
      ]
    },
    {
      "cell_type": "code",
      "source": [
        "#10. Write code to demonstrate type casting with list elements.\n",
        "\n",
        "string_numbers = [\"1\", \"2\", \"3\", \"4\", \"5\"]\n",
        "print(f\"Original list of strings: {string_numbers}\")\n",
        "\n",
        "# Using a for loop\n",
        "integer_numbers = []\n",
        "for s_num in string_numbers:\n",
        "    integer_numbers.append(int(s_num))\n",
        "\n",
        "print(f\"Converted list of integers: {integer_numbers}\")"
      ],
      "metadata": {
        "colab": {
          "base_uri": "https://localhost:8080/"
        },
        "id": "SJ53VUw_8BSM",
        "outputId": "ea82237e-6518-4130-93b1-ffdbf52a2b92"
      },
      "execution_count": 16,
      "outputs": [
        {
          "output_type": "stream",
          "name": "stdout",
          "text": [
            "Original list of strings: ['1', '2', '3', '4', '5']\n",
            "Converted list of integers: [1, 2, 3, 4, 5]\n"
          ]
        }
      ]
    },
    {
      "cell_type": "code",
      "source": [
        "#11. Write a program that checks if a number is positive, negative, or zero.\n",
        "\n",
        "number = float(input(\"Enter a number: \"))\n",
        "\n",
        "if number > 0:\n",
        "    print(\"The number is positive.\")\n",
        "elif number < 0:\n",
        "    print(\"The number is negative.\")\n",
        "else:\n",
        "    print(\"The number is zero.\")"
      ],
      "metadata": {
        "colab": {
          "base_uri": "https://localhost:8080/"
        },
        "id": "MTzSbzsQ8KFr",
        "outputId": "19466e92-f907-4697-f034-1c7aa03350b7"
      },
      "execution_count": 17,
      "outputs": [
        {
          "output_type": "stream",
          "name": "stdout",
          "text": [
            "Enter a number: 25\n",
            "The number is positive.\n"
          ]
        }
      ]
    },
    {
      "cell_type": "code",
      "source": [
        "#12. Write a for loop to print numbers from 1 to 10.\n",
        "\n",
        "for i in range(1, 11):\n",
        "    print(i)"
      ],
      "metadata": {
        "colab": {
          "base_uri": "https://localhost:8080/"
        },
        "id": "_gbMBFpE8m5B",
        "outputId": "bfb33c8f-662c-4c9f-8a12-314db959089c"
      },
      "execution_count": 18,
      "outputs": [
        {
          "output_type": "stream",
          "name": "stdout",
          "text": [
            "1\n",
            "2\n",
            "3\n",
            "4\n",
            "5\n",
            "6\n",
            "7\n",
            "8\n",
            "9\n",
            "10\n"
          ]
        }
      ]
    },
    {
      "cell_type": "code",
      "source": [
        "#13. Write a Python program to find the sum of all even numbers between 1 and 50.\n",
        "\n",
        "total_sum = 0\n",
        "for number in range(1, 51):\n",
        "    if number % 2 == 0:\n",
        "        total_sum += number\n",
        "\n",
        "print(f\"The sum of all even numbers between 1 and 50 is: {total_sum}\")"
      ],
      "metadata": {
        "colab": {
          "base_uri": "https://localhost:8080/"
        },
        "id": "af47YIH08yoM",
        "outputId": "f9d77552-68fa-463e-c539-2a7fd6070778"
      },
      "execution_count": 19,
      "outputs": [
        {
          "output_type": "stream",
          "name": "stdout",
          "text": [
            "The sum of all even numbers between 1 and 50 is: 650\n"
          ]
        }
      ]
    },
    {
      "cell_type": "code",
      "source": [
        "#14. Write a program to reverse a string using a while loop.\n",
        "\n",
        "original_string = input(\"Enter a string to reverse: \")\n",
        "reversed_string = \"\"\n",
        "index = len(original_string) - 1\n",
        "\n",
        "while index >= 0:\n",
        "    reversed_string += original_string[index]\n",
        "    index -= 1\n",
        "\n",
        "print(f\"Reversed string: {reversed_string}\")"
      ],
      "metadata": {
        "colab": {
          "base_uri": "https://localhost:8080/"
        },
        "id": "_dmpNF-V87-N",
        "outputId": "04e03632-9ea1-46df-c87d-4345b1f125ba"
      },
      "execution_count": 23,
      "outputs": [
        {
          "output_type": "stream",
          "name": "stdout",
          "text": [
            "Enter a string to reverse: no\n",
            "Reversed string: on\n"
          ]
        }
      ]
    },
    {
      "cell_type": "code",
      "source": [
        "#15. Write a Python program to calculate the factorial of a number provided by the user using a while loop.\n",
        "\n",
        "num = int(input(\"Enter a non-negative number to calculate its factorial: \"))\n",
        "factorial = 1\n",
        "i = 1\n",
        "\n",
        "if num < 0:\n",
        "    print(\"Factorial is not defined for negative numbers.\")\n",
        "elif num == 0:\n",
        "    print(\"The factorial of 0 is 1.\")\n",
        "else:\n",
        "    while i <= num:\n",
        "        factorial *= i\n",
        "        i += 1\n",
        "    print(f\"The factorial of {num} is {factorial}.\")"
      ],
      "metadata": {
        "colab": {
          "base_uri": "https://localhost:8080/"
        },
        "id": "P5YxyALH9dTX",
        "outputId": "ffe86c15-c9e0-4de6-e592-1bae5d87a430"
      },
      "execution_count": 27,
      "outputs": [
        {
          "output_type": "stream",
          "name": "stdout",
          "text": [
            "Enter a non-negative number to calculate its factorial: 4\n",
            "The factorial of 4 is 24.\n"
          ]
        }
      ]
    }
  ]
}